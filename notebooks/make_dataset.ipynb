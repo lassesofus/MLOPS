{
 "cells": [
  {
   "cell_type": "code",
   "execution_count": 83,
   "metadata": {},
   "outputs": [],
   "source": [
    "import numpy as np\n",
    "import os\n",
    "from sklearn.preprocessing import StandardScaler\n",
    "import torch"
   ]
  },
  {
   "cell_type": "code",
   "execution_count": 119,
   "metadata": {},
   "outputs": [],
   "source": [
    "data_path = \"/mnt/c/Users/Lasse/Desktop/DTU/7. semester/MLOps/MLOPS/data/raw/corruptmnist\"\n",
    "\n",
    "train_files, test_files = [], []\n",
    "\n",
    "for root, dirs, files in os.walk(data_path):\n",
    "    for file in files:\n",
    "        if file[:5] == \"train\":\n",
    "            train_files.append(np.load(os.path.join(root,file)))\n",
    "        elif file[:4] == \"test\":\n",
    "            test_files.append(np.load(os.path.join(root,file)))\n",
    "\n",
    "# Extract training images and concatenate these into a [25000, 28, 28] numpy ndarray\n",
    "train_images = [f[\"images\"] for f in train_files]\n",
    "train_images = np.concatenate(train_images)\n",
    "\n",
    "scaler = StandardScaler()\n",
    "\n",
    "# This normalization is performed on a reshaped array of size [25000, 784] such that each pixel feature is normalized cf. the feature mean and standard deviation\n",
    "train_images = scaler.fit_transform(train_images.reshape(train_images.shape[0],\n",
    "                                    train_images.shape[1]*train_images.shape[2])).reshape(train_images.shape)\n",
    "\n",
    "# Add the channel dimension. The resulting dimensions are (25000, 1, 28, 28)\n",
    "train_images = torch.from_numpy(train_images).unsqueeze_(1)\n",
    "\n",
    "# Extract training labels and concatenate these into a [25000,] numpy ndarray\n",
    "train_labels = [f[\"labels\"] for f in train_files]\n",
    "train_labels = np.concatenate(train_labels)\n",
    "train_labels = torch.from_numpy(train_labels)\n",
    "\n",
    "# Extract test images and concatenate these into a [25000, 28, 28] numpy ndarray\n",
    "test_images = test_files[0][\"images\"]\n",
    "test_images = scaler.transform(test_images.reshape(test_images.shape[0], test_images.shape[1]*test_images.shape[2])).reshape(test_images.shape)\n",
    "# Add the channel dimension. The resulting dimensions are (5000, 1, 28, 28)\n",
    "test_images = torch.from_numpy(test_images).unsqueeze_(1)\n",
    "# Extract test labels and concatenate these into a [25000,] numpy ndarray\n",
    "test_labels = test_files[0][\"labels\"]\n",
    "test_labels = torch.from_numpy(test_labels)\n",
    "\n",
    "train = {\"images\": train_images, \"labels\": train_labels}\n",
    "test = {\"images\": test_images, \"labels\": test_labels}\n",
    "\n",
    "torch.save(train, \"/mnt/c/Users/Lasse/Desktop/DTU/7. semester/MLOps/MLOPS/data/processed/train.pt\")\n",
    "torch.save(test, \"/mnt/c/Users/Lasse/Desktop/DTU/7. semester/MLOps/MLOPS/data/processed/test.pt\")\n"
   ]
  },
  {
   "cell_type": "code",
   "execution_count": 112,
   "metadata": {},
   "outputs": [],
   "source": []
  },
  {
   "cell_type": "code",
   "execution_count": 113,
   "metadata": {},
   "outputs": [],
   "source": []
  },
  {
   "cell_type": "code",
   "execution_count": 114,
   "metadata": {},
   "outputs": [],
   "source": [
    "train = torch.load(\"/mnt/c/Users/Lasse/Desktop/DTU/7. semester/MLOps/MLOPS/data/processed/test.pt\")"
   ]
  },
  {
   "cell_type": "code",
   "execution_count": 118,
   "metadata": {},
   "outputs": [
    {
     "data": {
      "text/plain": [
       "torch.Size([25000])"
      ]
     },
     "execution_count": 118,
     "metadata": {},
     "output_type": "execute_result"
    }
   ],
   "source": [
    "train[\"labels\"].shape"
   ]
  },
  {
   "cell_type": "code",
   "execution_count": 111,
   "metadata": {},
   "outputs": [
    {
     "name": "stdout",
     "output_type": "stream",
     "text": [
      "torch.Size([25000, 1, 28, 28])\n",
      "torch.Size([25000])\n",
      "torch.Size([5000, 1, 28, 28])\n"
     ]
    }
   ],
   "source": [
    "print(train_images.shape)\n",
    "print(train_labels.shape)\n",
    "print(test_images.shape)"
   ]
  },
  {
   "cell_type": "code",
   "execution_count": 106,
   "metadata": {},
   "outputs": [
    {
     "ename": "RuntimeError",
     "evalue": "stack expects each tensor to be equal size, but got [25000, 1, 28, 28] at entry 0 and [25000] at entry 1",
     "output_type": "error",
     "traceback": [
      "\u001b[0;31m---------------------------------------------------------------------------\u001b[0m",
      "\u001b[0;31mRuntimeError\u001b[0m                              Traceback (most recent call last)",
      "\u001b[0;32m<ipython-input-106-b3a5d1fc5106>\u001b[0m in \u001b[0;36m<module>\u001b[0;34m()\u001b[0m\n\u001b[0;32m----> 1\u001b[0;31m \u001b[0mtorch\u001b[0m\u001b[0;34m.\u001b[0m\u001b[0mstack\u001b[0m\u001b[0;34m(\u001b[0m\u001b[0;34m(\u001b[0m\u001b[0mtrain_images\u001b[0m\u001b[0;34m,\u001b[0m \u001b[0mtrain_labels\u001b[0m\u001b[0;34m)\u001b[0m\u001b[0;34m)\u001b[0m\u001b[0;34m\u001b[0m\u001b[0m\n\u001b[0m",
      "\u001b[0;31mRuntimeError\u001b[0m: stack expects each tensor to be equal size, but got [25000, 1, 28, 28] at entry 0 and [25000] at entry 1"
     ]
    }
   ],
   "source": [
    "torch.stack((train_images, train_labels))"
   ]
  },
  {
   "cell_type": "code",
   "execution_count": 18,
   "metadata": {},
   "outputs": [],
   "source": [
    "import torch \n",
    "import sys\n",
    "sys.path.append(\"/mnt/c/Users/Lasse/Desktop/DTU/7. semester/MLOps/MLOPS\")\n",
    "\n",
    "from src.models.model import MyAwesomeModel"
   ]
  },
  {
   "cell_type": "code",
   "execution_count": 19,
   "metadata": {},
   "outputs": [
    {
     "data": {
      "text/plain": [
       "<All keys matched successfully>"
      ]
     },
     "execution_count": 19,
     "metadata": {},
     "output_type": "execute_result"
    }
   ],
   "source": [
    "model = MyAwesomeModel()\n",
    "state_dict = torch.load(\"/mnt/c/Users/Lasse/Desktop/DTU/7. semester/MLOps/MLOPS/models/checkpoint.pth\")\n",
    "model.load_state_dict(state_dict)"
   ]
  },
  {
   "cell_type": "code",
   "execution_count": 20,
   "metadata": {},
   "outputs": [
    {
     "name": "stdout",
     "output_type": "stream",
     "text": [
      "layer1.0 is a convolutional layer\n",
      "layer2.0 is a convolutional layer\n",
      "fc is a linear layer\n"
     ]
    }
   ],
   "source": [
    "for name, module in model.named_modules():\n",
    "    if isinstance(module, torch.nn.Conv2d):\n",
    "        print(name, \"is a convolutional layer\")\n",
    "    if isinstance(module, torch.nn.Linear):\n",
    "        print(name, \"is a linear layer\")"
   ]
  },
  {
   "cell_type": "code",
   "execution_count": 21,
   "metadata": {},
   "outputs": [
    {
     "data": {
      "text/plain": [
       "Sequential(\n",
       "  (0): Conv2d(1, 16, kernel_size=(3, 3), stride=(1, 1), padding=(1, 1))\n",
       "  (1): BatchNorm2d(16, eps=1e-05, momentum=0.1, affine=True, track_running_stats=True)\n",
       "  (2): ReLU()\n",
       "  (3): MaxPool2d(kernel_size=2, stride=2, padding=0, dilation=1, ceil_mode=False)\n",
       ")"
      ]
     },
     "execution_count": 21,
     "metadata": {},
     "output_type": "execute_result"
    }
   ],
   "source": [
    "model.layer1"
   ]
  },
  {
   "cell_type": "code",
   "execution_count": null,
   "metadata": {},
   "outputs": [],
   "source": []
  }
 ],
 "metadata": {
  "kernelspec": {
   "display_name": "mlops_exam_project",
   "language": "python",
   "name": "python3"
  },
  "language_info": {
   "codemirror_mode": {
    "name": "ipython",
    "version": 3
   },
   "file_extension": ".py",
   "mimetype": "text/x-python",
   "name": "python",
   "nbconvert_exporter": "python",
   "pygments_lexer": "ipython3",
   "version": "3.10.4 (main, Mar 31 2022, 08:41:55) [GCC 7.5.0]"
  },
  "orig_nbformat": 4,
  "vscode": {
   "interpreter": {
    "hash": "abbaf3d3b3c3226901bd3dc0c1519179ad215846a83643a4ba2d83cabb478fb5"
   }
  }
 },
 "nbformat": 4,
 "nbformat_minor": 2
}

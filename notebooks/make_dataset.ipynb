{
 "cells": [
  {
   "cell_type": "code",
   "execution_count": 83,
   "metadata": {},
   "outputs": [],
   "source": [
    "import numpy as np\n",
    "import os\n",
    "from sklearn.preprocessing import StandardScaler\n",
    "import torch"
   ]
  },
  {
   "cell_type": "code",
   "execution_count": 119,
   "metadata": {},
   "outputs": [],
   "source": [
    "data_path = \"/mnt/c/Users/Lasse/Desktop/DTU/7. semester/MLOps/MLOPS/data/raw/corruptmnist\"\n",
    "\n",
    "train_files, test_files = [], []\n",
    "\n",
    "for root, dirs, files in os.walk(data_path):\n",
    "    for file in files:\n",
    "        if file[:5] == \"train\":\n",
    "            train_files.append(np.load(os.path.join(root,file)))\n",
    "        elif file[:4] == \"test\":\n",
    "            test_files.append(np.load(os.path.join(root,file)))\n",
    "\n",
    "# Extract training images and concatenate these into a [25000, 28, 28] numpy ndarray\n",
    "train_images = [f[\"images\"] for f in train_files]\n",
    "train_images = np.concatenate(train_images)\n",
    "\n",
    "scaler = StandardScaler()\n",
    "\n",
    "# This normalization is performed on a reshaped array of size [25000, 784] such that each pixel feature is normalized cf. the feature mean and standard deviation\n",
    "train_images = scaler.fit_transform(train_images.reshape(train_images.shape[0],\n",
    "                                    train_images.shape[1]*train_images.shape[2])).reshape(train_images.shape)\n",
    "\n",
    "# Add the channel dimension. The resulting dimensions are (25000, 1, 28, 28)\n",
    "train_images = torch.from_numpy(train_images).unsqueeze_(1)\n",
    "\n",
    "# Extract training labels and concatenate these into a [25000,] numpy ndarray\n",
    "train_labels = [f[\"labels\"] for f in train_files]\n",
    "train_labels = np.concatenate(train_labels)\n",
    "train_labels = torch.from_numpy(train_labels)\n",
    "\n",
    "# Extract test images and concatenate these into a [25000, 28, 28] numpy ndarray\n",
    "test_images = test_files[0][\"images\"]\n",
    "test_images = scaler.transform(test_images.reshape(test_images.shape[0], test_images.shape[1]*test_images.shape[2])).reshape(test_images.shape)\n",
    "# Add the channel dimension. The resulting dimensions are (5000, 1, 28, 28)\n",
    "test_images = torch.from_numpy(test_images).unsqueeze_(1)\n",
    "# Extract test labels and concatenate these into a [25000,] numpy ndarray\n",
    "test_labels = test_files[0][\"labels\"]\n",
    "test_labels = torch.from_numpy(test_labels)\n",
    "\n",
    "train = {\"images\": train_images, \"labels\": train_labels}\n",
    "test = {\"images\": test_images, \"labels\": test_labels}\n",
    "\n",
    "torch.save(train, \"/mnt/c/Users/Lasse/Desktop/DTU/7. semester/MLOps/MLOPS/data/processed/train.pt\")\n",
    "torch.save(test, \"/mnt/c/Users/Lasse/Desktop/DTU/7. semester/MLOps/MLOPS/data/processed/test.pt\")\n"
   ]
  },
  {
   "cell_type": "code",
   "execution_count": 112,
   "metadata": {},
   "outputs": [],
   "source": []
  },
  {
   "cell_type": "code",
   "execution_count": 113,
   "metadata": {},
   "outputs": [],
   "source": []
  },
  {
   "cell_type": "code",
   "execution_count": 114,
   "metadata": {},
   "outputs": [],
   "source": [
    "train = torch.load(\"/mnt/c/Users/Lasse/Desktop/DTU/7. semester/MLOps/MLOPS/data/processed/test.pt\")"
   ]
  },
  {
   "cell_type": "code",
   "execution_count": 118,
   "metadata": {},
   "outputs": [
    {
     "data": {
      "text/plain": [
       "torch.Size([25000])"
      ]
     },
     "execution_count": 118,
     "metadata": {},
     "output_type": "execute_result"
    }
   ],
   "source": [
    "train[\"labels\"].shape"
   ]
  },
  {
   "cell_type": "code",
   "execution_count": 111,
   "metadata": {},
   "outputs": [
    {
     "name": "stdout",
     "output_type": "stream",
     "text": [
      "torch.Size([25000, 1, 28, 28])\n",
      "torch.Size([25000])\n",
      "torch.Size([5000, 1, 28, 28])\n"
     ]
    }
   ],
   "source": [
    "print(train_images.shape)\n",
    "print(train_labels.shape)\n",
    "print(test_images.shape)"
   ]
  },
  {
   "cell_type": "code",
   "execution_count": 106,
   "metadata": {},
   "outputs": [
    {
     "ename": "RuntimeError",
     "evalue": "stack expects each tensor to be equal size, but got [25000, 1, 28, 28] at entry 0 and [25000] at entry 1",
     "output_type": "error",
     "traceback": [
      "\u001b[0;31m---------------------------------------------------------------------------\u001b[0m",
      "\u001b[0;31mRuntimeError\u001b[0m                              Traceback (most recent call last)",
      "\u001b[0;32m<ipython-input-106-b3a5d1fc5106>\u001b[0m in \u001b[0;36m<module>\u001b[0;34m()\u001b[0m\n\u001b[0;32m----> 1\u001b[0;31m \u001b[0mtorch\u001b[0m\u001b[0;34m.\u001b[0m\u001b[0mstack\u001b[0m\u001b[0;34m(\u001b[0m\u001b[0;34m(\u001b[0m\u001b[0mtrain_images\u001b[0m\u001b[0;34m,\u001b[0m \u001b[0mtrain_labels\u001b[0m\u001b[0;34m)\u001b[0m\u001b[0;34m)\u001b[0m\u001b[0;34m\u001b[0m\u001b[0m\n\u001b[0m",
      "\u001b[0;31mRuntimeError\u001b[0m: stack expects each tensor to be equal size, but got [25000, 1, 28, 28] at entry 0 and [25000] at entry 1"
     ]
    }
   ],
   "source": [
    "torch.stack((train_images, train_labels))"
   ]
  },
  {
   "cell_type": "code",
   "execution_count": 17,
   "metadata": {},
   "outputs": [
    {
     "ename": "ModuleNotFoundError",
     "evalue": "No module named 'src'",
     "output_type": "error",
     "traceback": [
      "\u001b[0;31m---------------------------------------------------------------------------\u001b[0m",
      "\u001b[0;31mModuleNotFoundError\u001b[0m                       Traceback (most recent call last)",
      "Cell \u001b[0;32mIn[17], line 2\u001b[0m\n\u001b[1;32m      1\u001b[0m \u001b[39mimport\u001b[39;00m \u001b[39mtorch\u001b[39;00m \n\u001b[0;32m----> 2\u001b[0m \u001b[39mfrom\u001b[39;00m \u001b[39msrc\u001b[39;00m\u001b[39m.\u001b[39;00m\u001b[39mmodels\u001b[39;00m\u001b[39m.\u001b[39;00m\u001b[39mmodel\u001b[39;00m \u001b[39mimport\u001b[39;00m MyAwesomeModel\n",
      "\u001b[0;31mModuleNotFoundError\u001b[0m: No module named 'src'"
     ]
    }
   ],
   "source": [
    "import torch \n",
    "import sys\n",
    "sys.path.append(\"/mnt/c/Users/Lasse/Desktop/DTU/7. semester/MLOps/MLOPS\")\n",
    "\n",
    "from src.models.model import MyAwesomeModel"
   ]
  },
  {
   "cell_type": "code",
   "execution_count": 3,
   "metadata": {},
   "outputs": [],
   "source": [
    "model = M\n",
    "model = torch.load(\"/mnt/c/Users/Lasse/Desktop/DTU/7. semester/MLOps/MLOPS/models/checkpoint.pth\")\n"
   ]
  },
  {
   "cell_type": "code",
   "execution_count": 15,
   "metadata": {},
   "outputs": [
    {
     "data": {
      "text/plain": [
       "collections.OrderedDict"
      ]
     },
     "execution_count": 15,
     "metadata": {},
     "output_type": "execute_result"
    }
   ],
   "source": [
    "type(model)"
   ]
  },
  {
   "cell_type": "code",
   "execution_count": null,
   "metadata": {},
   "outputs": [],
   "source": []
  }
 ],
 "metadata": {
  "kernelspec": {
   "display_name": "mlops_exam_project",
   "language": "python",
   "name": "python3"
  },
  "language_info": {
   "codemirror_mode": {
    "name": "ipython",
    "version": 3
   },
   "file_extension": ".py",
   "mimetype": "text/x-python",
   "name": "python",
   "nbconvert_exporter": "python",
   "pygments_lexer": "ipython3",
   "version": "3.10.4"
  },
  "orig_nbformat": 4,
  "vscode": {
   "interpreter": {
    "hash": "abbaf3d3b3c3226901bd3dc0c1519179ad215846a83643a4ba2d83cabb478fb5"
   }
  }
 },
 "nbformat": 4,
 "nbformat_minor": 2
}
